{
  "nbformat": 4,
  "nbformat_minor": 0,
  "metadata": {
    "colab": {
      "provenance": []
    },
    "kernelspec": {
      "name": "python3",
      "display_name": "Python 3"
    },
    "language_info": {
      "name": "python"
    }
  },
  "cells": [
    {
      "cell_type": "markdown",
      "source": [
        "Q1. Explain the key features of Python that make it a popular choice for programming.\n",
        "\n",
        "Sol: Python is one of the most famous and extensively used programming language. Here is the list of some of its key features which makes it so popular.\n",
        "\n",
        "**1. Simple and Readable Syntax: -**\n",
        "\n",
        "Python is very easy to learn as compared to other programming languages like C, C++, Java etc. It is easy to understand and easy to code, and anyone can learn Python within a few days. It is also a develop-friendly language. For example, a simple python program to add two numbers is as follows:\n",
        "\n",
        "\n"
      ],
      "metadata": {
        "id": "CbufhVrqFMmU"
      }
    },
    {
      "cell_type": "code",
      "source": [
        "a=10\n",
        "b=5\n",
        "print(a+b)"
      ],
      "metadata": {
        "colab": {
          "base_uri": "https://localhost:8080/"
        },
        "id": "_JtuP-KKF39B",
        "outputId": "e3ab311e-187c-4fea-affd-26e5d8af6124"
      },
      "execution_count": null,
      "outputs": [
        {
          "output_type": "stream",
          "name": "stdout",
          "text": [
            "15\n"
          ]
        }
      ]
    },
    {
      "cell_type": "markdown",
      "source": [
        "We have completed this program in three lines. Whereas other language takes more. That is why Python is known as an easy and precise language.\n",
        "\n",
        "**2.Dynamically Language:-**\n",
        "\n",
        "Python does not require the programmer to declare variable types explicitly. This flexibility speeds up development and makes the code less verbose. But, the programmer have to be careful regarding runtime errors.\n",
        "\n",
        "**3.Free and Open Source:-**\n",
        "\n",
        "Python language is freely available to use and distribute, even for commercial purposes. Its open source nature allows developers to contribute to its development and share their work.\n",
        "\n",
        "**4.Object-Oriented Programming Language:-**\n",
        "\n",
        "Python supports procedural, functional, structural, and also object-oriented programming (OPPs) such as abstraction, encapsulation, inheritance and polymorphism. This flexibility allows developers to choose the approach that best suits their application.\n",
        "\n",
        "\n",
        "**5.Large Community Support:-**\n",
        "\n",
        "Python has a large and active community that contributes to its development. Which means plenty of resource, tutorials, and third-party libraries are available, making it easier for both beginners and advance users to find help and improve their skills.\n",
        "\n",
        "**6.Standard Library:-**\n",
        "\n",
        "It offers various modules like operators, mathematical functions, libraries such as NumPy, Pandas, TensorFlow, etc., and packages paving the way for the developers to save time to avoid re-writing the codes from scratch. To provide more functionality and packages, they also provide Python Package Index.\n",
        "\n",
        "7.Scalability and Flexibility:-\n",
        "**bold text**\n",
        "Python's scalability makes it suitable for both small scripts and large-scale enterprise applications. It is used in web development, data science, artificial intelligence, automation, and many other fields due to its flexible nature.\n",
        "\n",
        "**8.Interpreted Language:-**\n",
        "\n",
        "Python is an interpreted language, meaning that it executes code line by line. This allows for quick testing and debugging, as there’s no need to compile code before running it.\n",
        "\n"
      ],
      "metadata": {
        "id": "kNYI9duzGB6c"
      }
    },
    {
      "cell_type": "markdown",
      "source": [
        "\n",
        "\n",
        "\n",
        "---\n",
        "\n"
      ],
      "metadata": {
        "id": "AqSh8P9HP3n_"
      }
    },
    {
      "cell_type": "markdown",
      "source": [
        "Q2. Describe the role of predefined keywords in Python and provide examples of how they are used in a program\n",
        "\n",
        "Sol. Pythons are some predefined and reserved word in python that have special meaning. Keywords cannot be used as variable names, function name, or any other identifier. They are used to define the syntax of the coding.\n",
        "Here are some of the keywords – and, or, not, if, elif, else, while, for, break, in, break, continue, etc.\n",
        "Predefined keywords in Python are essential for defining the structure, control flow, and behaviour of a program. They play a key role in shaping how the code is written, executed, and managed, ensuring that Python maintains its clean and readable syntax.\n"
      ],
      "metadata": {
        "id": "U9r_baCGHguh"
      }
    },
    {
      "cell_type": "markdown",
      "source": [
        "\n",
        "Role of Predefined Keywords in python:\n",
        "1. Control the flow of the program\n",
        "2. Manage Data and Variables\n",
        "3. Handle exceptions\n",
        "4. Define functions and Classes\n"
      ],
      "metadata": {
        "id": "vbrtlC4FH44v"
      }
    },
    {
      "cell_type": "code",
      "source": [
        "# if Keyword\n",
        "a=10\n",
        "if a<0:\n",
        "    print(\"Negative\")\n",
        "else:\n",
        "    print(\"Positive\")\n"
      ],
      "metadata": {
        "colab": {
          "base_uri": "https://localhost:8080/"
        },
        "id": "IJrTMRgDIGdw",
        "outputId": "87ac1258-9431-4e66-db57-1a2e77134dbe"
      },
      "execution_count": null,
      "outputs": [
        {
          "output_type": "stream",
          "name": "stdout",
          "text": [
            "Positive\n"
          ]
        }
      ]
    },
    {
      "cell_type": "code",
      "source": [
        "\n",
        "# for Keyword\n",
        "\n",
        "for i in range(5):\n",
        "    for j in range(i+1):\n",
        "        print(\"*\",end=\"\")\n",
        "    print(\"\")\n",
        "\n"
      ],
      "metadata": {
        "colab": {
          "base_uri": "https://localhost:8080/"
        },
        "id": "Pl_hrWOTImRk",
        "outputId": "2b6d067a-d681-491f-d17f-7348114d80b1"
      },
      "execution_count": null,
      "outputs": [
        {
          "output_type": "stream",
          "name": "stdout",
          "text": [
            "*\n",
            "**\n",
            "***\n",
            "****\n",
            "*****\n"
          ]
        }
      ]
    },
    {
      "cell_type": "markdown",
      "source": [
        "\n",
        "\n",
        "---\n",
        "\n"
      ],
      "metadata": {
        "id": "sW2oINdtPwP1"
      }
    },
    {
      "cell_type": "markdown",
      "source": [
        "Q3. Compare and contrast mutable and immutable objects in Python with examples.\n",
        "\n",
        "Sol. Mutable Objects:\n",
        "\n",
        "In python, a data type is mutable if its values can be changed, updated, or modified after the data type has been created. In other words, once an object of the mutable data type is initialized, you can update its content without creating a new object. Example of mutable objects are lists, dictionary and sets.\n"
      ],
      "metadata": {
        "id": "tKN2F4yyIwzm"
      }
    },
    {
      "cell_type": "code",
      "source": [
        "a=[1,2,3.3,\"egg plant\",\"mango\",\"banana\",5,7]\n",
        "a[3]=\"Apple\"\n",
        "print(a)\n"
      ],
      "metadata": {
        "colab": {
          "base_uri": "https://localhost:8080/"
        },
        "id": "B5fPJEWlI7em",
        "outputId": "d5d68006-06e9-42d6-b607-9c0ac876d3c9"
      },
      "execution_count": null,
      "outputs": [
        {
          "output_type": "stream",
          "name": "stdout",
          "text": [
            "[1, 2, 3.3, 'Apple', 'mango', 'banana', 5, 7]\n"
          ]
        }
      ]
    },
    {
      "cell_type": "markdown",
      "source": [
        "Immutable Objects:\n",
        "\n",
        "Data types in python whose values cannot be changed or modified are known as Immutable Data Types. In other words, once an object of the mutable data type is initialized, its value remains constant throughout its lifetime. Example of immutable datatypes are string, tuples and Frozensets."
      ],
      "metadata": {
        "id": "G5oixx4tJGbP"
      }
    },
    {
      "cell_type": "code",
      "source": [
        "s=\"Data Science\"\n",
        "s[0]=\"d\"\n",
        "print(s)\n"
      ],
      "metadata": {
        "colab": {
          "base_uri": "https://localhost:8080/",
          "height": 176
        },
        "id": "Hepw324ZJPFe",
        "outputId": "8a9347a2-186c-4f13-8c5d-98749806a23b"
      },
      "execution_count": null,
      "outputs": [
        {
          "output_type": "error",
          "ename": "TypeError",
          "evalue": "'str' object does not support item assignment",
          "traceback": [
            "\u001b[0;31m---------------------------------------------------------------------------\u001b[0m",
            "\u001b[0;31mTypeError\u001b[0m                                 Traceback (most recent call last)",
            "\u001b[0;32m<ipython-input-7-e4c7fbafc6fe>\u001b[0m in \u001b[0;36m<cell line: 2>\u001b[0;34m()\u001b[0m\n\u001b[1;32m      1\u001b[0m \u001b[0ms\u001b[0m\u001b[0;34m=\u001b[0m\u001b[0;34m\"Data Science\"\u001b[0m\u001b[0;34m\u001b[0m\u001b[0;34m\u001b[0m\u001b[0m\n\u001b[0;32m----> 2\u001b[0;31m \u001b[0ms\u001b[0m\u001b[0;34m[\u001b[0m\u001b[0;36m0\u001b[0m\u001b[0;34m]\u001b[0m\u001b[0;34m=\u001b[0m\u001b[0;34m\"d\"\u001b[0m\u001b[0;34m\u001b[0m\u001b[0;34m\u001b[0m\u001b[0m\n\u001b[0m\u001b[1;32m      3\u001b[0m \u001b[0mprint\u001b[0m\u001b[0;34m(\u001b[0m\u001b[0ms\u001b[0m\u001b[0;34m)\u001b[0m\u001b[0;34m\u001b[0m\u001b[0;34m\u001b[0m\u001b[0m\n",
            "\u001b[0;31mTypeError\u001b[0m: 'str' object does not support item assignment"
          ]
        }
      ]
    },
    {
      "cell_type": "markdown",
      "source": [
        "\n",
        "\n",
        "\n",
        "\n",
        "---\n",
        "\n"
      ],
      "metadata": {
        "id": "2wXhtU4Wzrkg"
      }
    },
    {
      "cell_type": "markdown",
      "source": [
        "Q4. Discuss the different types of operators in Python and provide examples of how they are used.\n",
        "\n",
        "Sol. In Python, operators are special symbols or keywords that carry out operations on values and python variables. They serve as a basis for expressions, which are used to modify data and execute computations. Python contains several operators, each with its unique purpose.\n"
      ],
      "metadata": {
        "id": "Aj6DM7T_zNhy"
      }
    },
    {
      "cell_type": "markdown",
      "source": [
        "**1.Arithmetic Operators:-**\n",
        "\n",
        "•\tThese are used to perform basic mathematical operations like addition, subtraction, multiplication, and division.\n",
        "\n",
        "•\tThey are compatible with integers, variables, and expressions.\n"
      ],
      "metadata": {
        "id": "KucxYVcEzSW1"
      }
    },
    {
      "cell_type": "code",
      "source": [
        "a = 21\n",
        "b = 10\n",
        "# Addition\n",
        "print (\"a + b : \", a + b)\n",
        "# Subtraction\n",
        "print (\"a - b : \", a - b)\n",
        "# Multiplication\n",
        "print (\"a * b : \", a * b)\n",
        "# Division\n",
        "print (\"a / b : \", a / b)\n",
        "# Modulus\n",
        "print (\"a % b : \", a % b)\n",
        "# Exponent\n",
        "print (\"a ** b : \", a ** b)\n",
        "# Floor Division\n",
        "print (\"a // b : \", a // b)\n"
      ],
      "metadata": {
        "colab": {
          "base_uri": "https://localhost:8080/"
        },
        "id": "ajTLD6qnzhxb",
        "outputId": "049d5983-c124-489a-a80c-39dcfdf3c613"
      },
      "execution_count": 1,
      "outputs": [
        {
          "output_type": "stream",
          "name": "stdout",
          "text": [
            "a + b :  31\n",
            "a - b :  11\n",
            "a * b :  210\n",
            "a / b :  2.1\n",
            "a % b :  1\n",
            "a ** b :  16679880978201\n",
            "a // b :  2\n"
          ]
        }
      ]
    },
    {
      "cell_type": "markdown",
      "source": [
        "**2.Comparison Operators:-**\n",
        "\n",
        "•\tTo compare two values, Comparison operators are needed.\n",
        "\n",
        "•\tBased on comparison, they produce a Boolean value (True or False).\n"
      ],
      "metadata": {
        "id": "1DeRwhQ0zw-Q"
      }
    },
    {
      "cell_type": "code",
      "source": [
        "a = 4\n",
        "b = 5\n",
        "# Equal\n",
        "print (\"a == b : \", a == b)\n",
        "# Not Equal\n",
        "print (\"a != b : \", a != b)\n",
        "# Greater Than\n",
        "print (\"a > b : \", a > b)\n",
        "# Less Than\n",
        "print (\"a < b : \", a < b)\n",
        "# Greater Than or Equal to\n",
        "print (\"a >= b : \", a >= b)\n",
        "# Less Than or Equal to\n",
        "print (\"a <= b : \", a <= b)\n"
      ],
      "metadata": {
        "colab": {
          "base_uri": "https://localhost:8080/"
        },
        "id": "JPR-Mxlbz6jP",
        "outputId": "31c34a53-f416-4d6d-8719-ec66e5dd8772"
      },
      "execution_count": 2,
      "outputs": [
        {
          "output_type": "stream",
          "name": "stdout",
          "text": [
            "a == b :  False\n",
            "a != b :  True\n",
            "a > b :  False\n",
            "a < b :  True\n",
            "a >= b :  False\n",
            "a <= b :  True\n"
          ]
        }
      ]
    },
    {
      "cell_type": "markdown",
      "source": [
        "**3.Assignment Operators:-**\n",
        "\n",
        "•\tThese are used to assign values to variables in python.\n",
        "\n",
        "•\tThe single equal symbol (=) is the most fundamental assignment operator.\n",
        "\n",
        "•\tIt assigns the value on the operator’s right side to the variable on the operator’s left side.\n"
      ],
      "metadata": {
        "id": "XF_JAVx3z_xA"
      }
    },
    {
      "cell_type": "code",
      "source": [
        "# Assignment Operator\n",
        "a = 10\n",
        "# Addition Assignment\n",
        "a += 5\n",
        "print (\"a += 5 : \", a)\n",
        "# Subtraction Assignment\n",
        "a -= 5\n",
        "print (\"a -= 5 : \", a)\n",
        "# Multiplication Assignment\n",
        "a *= 5\n",
        "print (\"a *= 5 : \", a)\n",
        "# Division Assignment\n",
        "a /= 5\n",
        "print (\"a /= 5 : \",a)\n",
        "# Remainder Assignment\n",
        "a %= 3\n",
        "print (\"a %= 3 : \", a)\n",
        "# Exponent Assignment\n",
        "a **= 2\n",
        "print (\"a **= 2 : \", a)\n",
        "# Floor Division Assignment\n",
        "a //= 3\n",
        "print (\"a //= 3 : \", a)"
      ],
      "metadata": {
        "colab": {
          "base_uri": "https://localhost:8080/"
        },
        "id": "ynMAM-yl0J2i",
        "outputId": "41c93511-b577-4afe-8abe-f0dd79012025"
      },
      "execution_count": 3,
      "outputs": [
        {
          "output_type": "stream",
          "name": "stdout",
          "text": [
            "a += 5 :  15\n",
            "a -= 5 :  10\n",
            "a *= 5 :  50\n",
            "a /= 5 :  10.0\n",
            "a %= 3 :  1.0\n",
            "a **= 2 :  1.0\n",
            "a //= 3 :  0.0\n"
          ]
        }
      ]
    },
    {
      "cell_type": "markdown",
      "source": [
        "\n",
        "**4.Bitwise Operators:-**\n",
        "\n",
        "•\tBitwise operators execute operations on individual bits of binary integers.\n",
        "\n",
        "•\tThey work with integer binary representations, performing logical operations in each bit location.\n",
        "\n",
        "***•***\tPython includes various bitwise operators, such as AND(&), OR(|), NOT(~), XOR(^), left shift(<<), right shift(>>).\n"
      ],
      "metadata": {
        "id": "fLoTDL9r0PM8"
      }
    },
    {
      "cell_type": "code",
      "source": [
        "a = 60 # 60 = 0011 1100\n",
        "b = 13 # 13 = 0000 1101\n",
        "# Binary AND\n",
        "c = a & b # 12 = 0000 1100\n",
        "print (\"a & b : \", c)\n",
        "# Binary OR\n",
        "c = a | b # 61 = 0011 1101\n",
        "print (\"a | b : \", c)\n",
        "# Binary XOR\n",
        "c = a ^ b # 49 = 0011 0001\n",
        "print (\"a ^ b : \", c)\n",
        "# Binary Ones Complement\n",
        "c = ~a; # -61 = 1100 0011\n",
        "print (\"~a : \", c)\n",
        "# Binary Left Shift\n",
        "c = a << 2; # 240 = 1111 0000\n",
        "print (\"a << 2 : \", c)\n",
        "# Binary Right Shift\n",
        "c = a >> 2; # 15 = 0000 1111\n",
        "print (\"a >> 2 : \", c)"
      ],
      "metadata": {
        "colab": {
          "base_uri": "https://localhost:8080/"
        },
        "id": "byzGtuiL0ouq",
        "outputId": "e3790152-3dcd-4e2e-e2f5-a5a907453395"
      },
      "execution_count": 4,
      "outputs": [
        {
          "output_type": "stream",
          "name": "stdout",
          "text": [
            "a & b :  12\n",
            "a | b :  61\n",
            "a ^ b :  49\n",
            "~a :  -61\n",
            "a << 2 :  240\n",
            "a >> 2 :  15\n"
          ]
        }
      ]
    },
    {
      "cell_type": "markdown",
      "source": [
        "\n",
        "**5.Logical Operators:-**\n",
        "\n",
        "•\tThey are used to compare Boolean expression and evaluate their truth values.\n",
        "\n",
        "•\tThey are required for the creation of conditional statements as well as for managing the flow of execution in programs.\n",
        "\n",
        "•\tPython has three basic logical operators: AND, OR, and NOT.\n"
      ],
      "metadata": {
        "id": "kvEduEro0uEG"
      }
    },
    {
      "cell_type": "code",
      "source": [
        "x = 5\n",
        "y = 10\n",
        "if x > 3 and y < 15:\n",
        "  print(\"Both x and y are within the specified range\")"
      ],
      "metadata": {
        "colab": {
          "base_uri": "https://localhost:8080/"
        },
        "id": "1Nf0Mhsq07Oi",
        "outputId": "7b61e8f8-1aa9-4089-af9c-d12a830dc1b2"
      },
      "execution_count": 5,
      "outputs": [
        {
          "output_type": "stream",
          "name": "stdout",
          "text": [
            "Both x and y are within the specified range\n"
          ]
        }
      ]
    },
    {
      "cell_type": "markdown",
      "source": [
        "\n",
        "**6.Membership Operators:-**\n",
        "\n",
        "•\tThey are used to determine whether or not a certain value occurs within a sequence.\n",
        "\n",
        "•\tThey make it simple to determine the membership of elements in various Python data structures such as lists, tuples, sets and strings.\n",
        "\n",
        "•\tPython has two primary membership operators: the in and not in operators.\n"
      ],
      "metadata": {
        "id": "N4EF50Rz1FYh"
      }
    },
    {
      "cell_type": "code",
      "source": [
        "fruits = [\"apple\", \"banana\", \"cherry\"]\n",
        "if \"banana\" in fruits:\n",
        "    print(\"Yes, banana is a fruit!\")\n",
        "else:\n",
        "    print(\"No, banana is not a fruit!\")"
      ],
      "metadata": {
        "colab": {
          "base_uri": "https://localhost:8080/"
        },
        "id": "LJiWQrXo1Q75",
        "outputId": "e7e7e987-6ca0-4034-db7f-b33a31c23838"
      },
      "execution_count": 6,
      "outputs": [
        {
          "output_type": "stream",
          "name": "stdout",
          "text": [
            "Yes, banana is a fruit!\n"
          ]
        }
      ]
    },
    {
      "cell_type": "markdown",
      "source": [
        "\n",
        "**7.Identity Operators:-**\n",
        "\n",
        "•\tThey are used to compare two objects memory address rather than their values.\n",
        "\n",
        "•\tIf the two objects refer to the same memory address, they evaluate to True: otherwise, they evaluate to False.\n",
        "\n",
        "•\tPython includes two identity operators: the is and is not operators.\n"
      ],
      "metadata": {
        "id": "CqpZHjDN1VmC"
      }
    },
    {
      "cell_type": "code",
      "source": [
        "x = 10\n",
        "y = 5\n",
        "if x is y:\n",
        "    print(\"x and y are the same object\")\n",
        "else:\n",
        "    print(\"x and y are not the same object\")"
      ],
      "metadata": {
        "colab": {
          "base_uri": "https://localhost:8080/"
        },
        "id": "FVX9oF0p1ije",
        "outputId": "3b8a809a-4135-4930-bb88-a78cba51b8fc"
      },
      "execution_count": 7,
      "outputs": [
        {
          "output_type": "stream",
          "name": "stdout",
          "text": [
            "x and y are not the same object\n"
          ]
        }
      ]
    },
    {
      "cell_type": "markdown",
      "source": [
        "\n",
        "\n",
        "\n",
        "\n",
        "---\n",
        "\n"
      ],
      "metadata": {
        "id": "EDw5NF_G1xk3"
      }
    },
    {
      "cell_type": "markdown",
      "source": [
        "\n",
        "\n",
        "\n",
        "\n",
        "Q5. Explain the concept of type casting in Python with examples\n",
        "\n",
        "Sol. Type Casting is the method to convert one data type to another. There are two types of Type Casting in Python:\n",
        "\n",
        "**1.Implicit Type Casting:-**\n",
        "\n",
        "In this method Python automatically converts one data type to another.\n"
      ],
      "metadata": {
        "id": "nyjqW5QmKYL9"
      }
    },
    {
      "cell_type": "code",
      "source": [
        "a=10\n",
        "b=7.5\n",
        "c=a+b\n",
        "print(c)\n",
        "print(type(c))\n"
      ],
      "metadata": {
        "colab": {
          "base_uri": "https://localhost:8080/"
        },
        "id": "1NLgr5ulKvpQ",
        "outputId": "d8ede0aa-2b55-4d8d-e362-6ce6f0d28eee"
      },
      "execution_count": null,
      "outputs": [
        {
          "output_type": "stream",
          "name": "stdout",
          "text": [
            "17.5\n",
            "<class 'float'>\n"
          ]
        }
      ]
    },
    {
      "cell_type": "markdown",
      "source": [
        "\n",
        "**2.Explicit Type Casting:-**\n",
        "\n",
        "It is done by programmer using predefined functions to convert an object from one type to another.\n"
      ],
      "metadata": {
        "id": "O-Dj-5zAK0VH"
      }
    },
    {
      "cell_type": "code",
      "source": [
        "x=\"1234\"\n",
        "y=int(x)\n",
        "print(type(x))\n",
        "print(type(y))\n"
      ],
      "metadata": {
        "colab": {
          "base_uri": "https://localhost:8080/"
        },
        "id": "Gkmct3YgK-U-",
        "outputId": "7ffb9c9e-df74-410d-c505-06721342438b"
      },
      "execution_count": null,
      "outputs": [
        {
          "output_type": "stream",
          "name": "stdout",
          "text": [
            "<class 'str'>\n",
            "<class 'int'>\n"
          ]
        }
      ]
    },
    {
      "cell_type": "markdown",
      "source": [
        "\n",
        "\n",
        "---\n",
        "\n"
      ],
      "metadata": {
        "id": "UuV95tlqPj1E"
      }
    },
    {
      "cell_type": "markdown",
      "source": [
        "Q6. How do conditional statements work in Python? Illustrate with examples\n",
        "\n",
        "Sol. Conditional statement in Python are used to execute code based on the evaluatuion of one or more conditions. Python supports conditional statements such as if, elif, and else to control the flow of execution.\n",
        "Types of Conditional Statements in Python\n"
      ],
      "metadata": {
        "id": "xG7kxR7SLD6M"
      }
    },
    {
      "cell_type": "markdown",
      "source": [
        "**1.If Statement:-**\n",
        "\n",
        "The if statement evaluates a condition, and if it is True, the code block inside the if statement is executed\n"
      ],
      "metadata": {
        "id": "9-P6t3PwLLTs"
      }
    },
    {
      "cell_type": "code",
      "source": [
        "a=10\n",
        "if a>0:\n",
        "    print(\"Positive\")\n"
      ],
      "metadata": {
        "colab": {
          "base_uri": "https://localhost:8080/"
        },
        "id": "7dRTE7XNLVRa",
        "outputId": "88ea2c02-035a-4ed3-85bc-1f1d8975ec2a"
      },
      "execution_count": null,
      "outputs": [
        {
          "output_type": "stream",
          "name": "stdout",
          "text": [
            "Positive\n"
          ]
        }
      ]
    },
    {
      "cell_type": "markdown",
      "source": [
        "**2.Elif Statement:-**\n",
        "\n",
        "It allows you to check multiple conditions. If the previous if or elif conditions are d=false, Python checks the next elif conditions.\n"
      ],
      "metadata": {
        "id": "Y88hJ4HtLfR4"
      }
    },
    {
      "cell_type": "code",
      "source": [
        "a=10\n",
        "if a<0:\n",
        "    print(\"Negative\")\n",
        "elif a>0:\n",
        "    print(\"Positive\")\n",
        "else:\n",
        "    print(\"Equal to zero\")"
      ],
      "metadata": {
        "colab": {
          "base_uri": "https://localhost:8080/"
        },
        "id": "PVoARmScLj4Q",
        "outputId": "8039efbf-c489-4ab4-f83b-de42534958a0"
      },
      "execution_count": null,
      "outputs": [
        {
          "output_type": "stream",
          "name": "stdout",
          "text": [
            "Positive\n"
          ]
        }
      ]
    },
    {
      "cell_type": "markdown",
      "source": [
        "**3.Else Statement:-**\n",
        "\n",
        "The else Statement provides a fall back option if none of the preceding if or elif conditions evaluates True. The code block under else is executed when all the other conditions are False.\n"
      ],
      "metadata": {
        "id": "KOJwijs2LrBs"
      }
    },
    {
      "cell_type": "code",
      "source": [
        "a=10\n",
        "if a<0:\n",
        "    print(\"Negative\")\n",
        "else:\n",
        "    print(\"Positive\")"
      ],
      "metadata": {
        "colab": {
          "base_uri": "https://localhost:8080/"
        },
        "id": "qdqFx2PGLvdP",
        "outputId": "2b1544ee-219c-4654-e00c-d9cf3e6f263a"
      },
      "execution_count": null,
      "outputs": [
        {
          "output_type": "stream",
          "name": "stdout",
          "text": [
            "Positive\n"
          ]
        }
      ]
    },
    {
      "cell_type": "markdown",
      "source": [
        "**4.Nested-If Statement:-**\n",
        "\n",
        "Nested if else means an if else inside another if statement.\n"
      ],
      "metadata": {
        "id": "FTQGO-31L7jM"
      }
    },
    {
      "cell_type": "code",
      "source": [
        "x = 15\n",
        "if x > 10:\n",
        "    print(\"x is greater than 10\")\n",
        "    if x > 20:\n",
        "        print(\"x is also greater than 20\")\n",
        "    else:\n",
        "        print(\"x is not greater than 20\")"
      ],
      "metadata": {
        "colab": {
          "base_uri": "https://localhost:8080/"
        },
        "id": "mutQroCgMAfw",
        "outputId": "bfde4efa-342d-462a-b686-878d1b06fd23"
      },
      "execution_count": null,
      "outputs": [
        {
          "output_type": "stream",
          "name": "stdout",
          "text": [
            "x is greater than 10\n",
            "x is not greater than 20\n"
          ]
        }
      ]
    },
    {
      "cell_type": "markdown",
      "source": [
        "\n",
        "\n",
        "\n",
        "\n",
        "---\n",
        "\n"
      ],
      "metadata": {
        "id": "vzZ0c0fUP-r1"
      }
    },
    {
      "cell_type": "markdown",
      "source": [
        "Q7. Describe the different types of loops in Python and their use cases with examples\n",
        "\n",
        "\n",
        "Sol: In Python, loops are employed to repeat a sequence of actions or code until a specific condition is fulfilled.\n",
        "Python supports two primary types of loops: for loops and while loops. Both loops are used for repeating a block of code multiple times, but they differ in their approach and typical use cases.\n"
      ],
      "metadata": {
        "id": "8vbmPd8IOAUg"
      }
    },
    {
      "cell_type": "markdown",
      "source": [
        "**1.for loop:-**\n",
        "\n",
        "•\tA for loop is a control flow statement in Python that allows you to iterate over a sequence of elements such as a list, tuple, or string.\n",
        "\n",
        "•\tOn each iteration, the loop variable in Python will take on the value of the next item in the sequence.\n"
      ],
      "metadata": {
        "id": "DfWU7f6oOEf6"
      }
    },
    {
      "cell_type": "code",
      "source": [
        "a = \"pwskills\"\n",
        "for i in a:\n",
        "    print(i)"
      ],
      "metadata": {
        "colab": {
          "base_uri": "https://localhost:8080/"
        },
        "id": "USTn9MCFORZc",
        "outputId": "ac30d69d-571d-40ad-84d7-386e3e95c72a"
      },
      "execution_count": null,
      "outputs": [
        {
          "output_type": "stream",
          "name": "stdout",
          "text": [
            "p\n",
            "w\n",
            "s\n",
            "k\n",
            "i\n",
            "l\n",
            "l\n",
            "s\n"
          ]
        }
      ]
    },
    {
      "cell_type": "markdown",
      "source": [
        "**2.while loop:-**\n",
        "\n",
        "•\tIn Python, a while loop is a control flow statement that allows you to execute a block of code repeatedly while a given condition is true.\n",
        "\n",
        "•\tThe condition is evaluated at the start of each loop iteration, and if it is true, the loop body is executed.\n",
        "\n",
        "•\tThe loop is terminated if the condition is false.\n"
      ],
      "metadata": {
        "id": "0RHJ0ivzO015"
      }
    },
    {
      "cell_type": "code",
      "source": [
        "count = 5\n",
        "while count > 0:\n",
        "    print(count)\n",
        "    count = count - 1"
      ],
      "metadata": {
        "colab": {
          "base_uri": "https://localhost:8080/"
        },
        "id": "tzmv-eYOO-Qe",
        "outputId": "248f1623-49ad-44e1-de81-1006d43bd30b"
      },
      "execution_count": null,
      "outputs": [
        {
          "output_type": "stream",
          "name": "stdout",
          "text": [
            "5\n",
            "4\n",
            "3\n",
            "2\n",
            "1\n"
          ]
        }
      ]
    },
    {
      "cell_type": "markdown",
      "source": [
        "**3.Nested loop:-**\n",
        "\n",
        "•\tIn Python, a nested loop is a loop that is contained within another loop.\n",
        "\n",
        "•\tThis indicates that the inner loop is executed within each outer loop iteration.\n"
      ],
      "metadata": {
        "id": "dfMHq9A7PFLs"
      }
    },
    {
      "cell_type": "code",
      "source": [
        "row = 1\n",
        "while row <= 4:\n",
        "    col = 1\n",
        "    while col <= row:\n",
        "        print(\"*\", end = \"\")\n",
        "        col = col+1\n",
        "    print()\n",
        "    row = row+1"
      ],
      "metadata": {
        "colab": {
          "base_uri": "https://localhost:8080/"
        },
        "id": "JxTwOt1CPNJo",
        "outputId": "a797f5c8-3ea9-4d60-f02b-666aa1b147f1"
      },
      "execution_count": null,
      "outputs": [
        {
          "output_type": "stream",
          "name": "stdout",
          "text": [
            "*\n",
            "**\n",
            "***\n",
            "****\n"
          ]
        }
      ]
    }
  ]
}